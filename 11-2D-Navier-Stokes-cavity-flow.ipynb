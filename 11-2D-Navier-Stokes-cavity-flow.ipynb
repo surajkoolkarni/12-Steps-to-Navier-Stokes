{
 "cells": [
  {
   "cell_type": "code",
   "execution_count": 8,
   "metadata": {},
   "outputs": [],
   "source": [
    "# Remember: comments in python are denoted by the pou_oldd sign\n",
    "import numpy as np                    #here we load numpy\n",
    "from matplotlib import pyplot      #here we load matplotlib\n",
    "import time, sys                   #and load some utilities\n",
    "\n",
    "import math"
   ]
  },
  {
   "cell_type": "code",
   "execution_count": 9,
   "metadata": {},
   "outputs": [],
   "source": [
    "from matplotlib import cm\n",
    "from matplotlib.ticker import LinearLocator\n",
    "\n",
    "%matplotlib inline\n",
    "\n",
    "nx = 41\n",
    "ny = 41\n",
    "nt = 100\n",
    "ni = 50\n",
    "\n",
    "rho = 1\n",
    "nu = .1\n",
    "dt = .001\n",
    "\n",
    "dx = 2 / (nx - 1)\n",
    "dy = 1 / (ny - 1)\n",
    "\n",
    "p = np.empty((ny, nx))\n",
    "p0 = np.empty((ny, nx))\n",
    "\n",
    "u = np.empty((ny, nx))\n",
    "v = np.empty((ny, nx))\n",
    "\n",
    "u0 = np.empty((ny, nx))\n",
    "v0 = np.empty((ny, nx))\n",
    "\n",
    "b = np.empty((ny, nx))\n",
    "\n",
    "# initial condition\n",
    "for i in range(ny):\n",
    "    for j in range(nx):\n",
    "        p[i, j] = 0\n",
    "        b[i, j] = 0\n",
    "        u[i, j] = 0\n",
    "        v[i, j] = 0\n",
    "\n",
    "u[-1, :] = 1 # u = 1 at y = 2\n",
    "\n",
    "# u = v = 0 at x = 0, 1, y = 0, v = 0 at y = 2\n",
    "u[0, :] = u[:, 0] = u[:, -1] = v[0, :] = v[:, 0] = v[:, -1] = v[-1, :] = 0 \n",
    "\n",
    "p[-1, :] = 0 # p = 0 at y = 2\n",
    "p[0, :] = p[1, :] # dp / dy = 0 at y = 0\n",
    "p[:, -1] = p[:, -2] # dp / dx = 0 at x = 2\n",
    "p[:, 0] = p[:, 1] # dp / dx = 0 at x = 0\n",
    "\n",
    "# grid\n",
    "x = np.empty(nx)\n",
    "y = np.empty(ny)\n",
    "\n",
    "for i in range(nx):\n",
    "    x[i] = i * dx\n",
    "\n",
    "for j in range(ny):\n",
    "    y[j] = j * dy"
   ]
  },
  {
   "cell_type": "code",
   "execution_count": 10,
   "metadata": {},
   "outputs": [
    {
     "name": "stderr",
     "output_type": "stream",
     "text": [
      "C:\\Users\\suraj\\AppData\\Local\\Temp\\ipykernel_2704\\4231361978.py:12: RuntimeWarning: overflow encountered in scalar multiply\n",
      "  b[i, j] -= bCoeff * (((u[i+1, j] - u[i-1, j]) / (2.*dx)) * ((u[i+1, j] - u[i-1, j]) / (2.*dx)))\n",
      "C:\\Users\\suraj\\AppData\\Local\\Temp\\ipykernel_2704\\4231361978.py:13: RuntimeWarning: overflow encountered in scalar multiply\n",
      "  b[i, j] -= bCoeff * 2 * (((v[i+1, j] - v[i-1, j]) / (2*dx)) * ((u[i, j+1] - u[i, j-1]) / (2*dy)))\n",
      "C:\\Users\\suraj\\AppData\\Local\\Temp\\ipykernel_2704\\4231361978.py:13: RuntimeWarning: invalid value encountered in scalar subtract\n",
      "  b[i, j] -= bCoeff * 2 * (((v[i+1, j] - v[i-1, j]) / (2*dx)) * ((u[i, j+1] - u[i, j-1]) / (2*dy)))\n",
      "C:\\Users\\suraj\\AppData\\Local\\Temp\\ipykernel_2704\\4231361978.py:14: RuntimeWarning: overflow encountered in scalar multiply\n",
      "  b[i, j] -= bCoeff * (((v[i, j+1] - v[i, j-1]) / (2*dy)) * ((v[i, j+1] - v[i, j-1]) / (2*dy)))\n",
      "C:\\Users\\suraj\\AppData\\Local\\Temp\\ipykernel_2704\\4231361978.py:31: RuntimeWarning: overflow encountered in scalar multiply\n",
      "  u[i, j] = u0[i, j] - ((dt / rho * dx) * (p[i+1, j] - p[i-1, j])) - (u0[i, j] * (dt / dx) * (u0[i, j] - u0[i-1, j]))\n",
      "C:\\Users\\suraj\\AppData\\Local\\Temp\\ipykernel_2704\\4231361978.py:32: RuntimeWarning: overflow encountered in scalar multiply\n",
      "  u[i, j] -= v0[i, j] * (dt / dy) * (u0[i, j] - u0[i, j-1]) + ((nu * dt) / dx**2) * (u0[i+1, j] - 2 * u0[i, j] + u0[i-1, j]) + ((nu * dt) / dy**2) * (u0[i, j+1] - 2 * u0[i, j] + u0[i, j-1])\n",
      "C:\\Users\\suraj\\AppData\\Local\\Temp\\ipykernel_2704\\4231361978.py:34: RuntimeWarning: overflow encountered in scalar multiply\n",
      "  v[i, j] = v0[i, j] - ((dt / rho * dx) * (p[i, j+1] - p[i, j-1])) - (u0[i, j] * (dt / dx) * (v0[i, j] - v0[i-1, j]))\n",
      "C:\\Users\\suraj\\AppData\\Local\\Temp\\ipykernel_2704\\4231361978.py:35: RuntimeWarning: overflow encountered in scalar multiply\n",
      "  v[i, j] -= v0[i, j] * (dt / dy) * (v0[i, j] - v0[i, j-1]) + ((nu * dt) / dx**2) * (v0[i+1, j] - 2 * v0[i, j] + v0[i-1, j]) + ((nu * dt) / dy**2) * (v0[i, j+1] - 2 * v0[i, j] + v0[i, j-1])\n"
     ]
    }
   ],
   "source": [
    "bCoeff = ((rho * dx**2 * dy**2) / (2 * (dx**2 + dy**2)))\n",
    "for t in range(nt):\n",
    "    u0 = u.copy()\n",
    "    v0 = v.copy()\n",
    "    \n",
    "    # Solve Poisson pressure equation\n",
    "\n",
    "    # Calculate b\n",
    "    for i in range(1, ny-1):\n",
    "        for j in range(1, nx-1):\n",
    "            b[i, j] = bCoeff * ((1. / dt) * (((u[i+1, j] - u[i-1, j]) / (2*dx)) + ((v[i, j+1] - v[i, j-1]) / (2*dy))))\n",
    "            b[i, j] -= bCoeff * (((u[i+1, j] - u[i-1, j]) / (2.*dx)) * ((u[i+1, j] - u[i-1, j]) / (2.*dx)))\n",
    "            b[i, j] -= bCoeff * 2 * (((v[i+1, j] - v[i-1, j]) / (2*dx)) * ((u[i, j+1] - u[i, j-1]) / (2*dy)))\n",
    "            b[i, j] -= bCoeff * (((v[i, j+1] - v[i, j-1]) / (2*dy)) * ((v[i, j+1] - v[i, j-1]) / (2*dy)))\n",
    "    \n",
    "    # Solve for p\n",
    "    for n in range(ni):\n",
    "        p0 = p.copy()\n",
    "        for i in range(1, ny-1):\n",
    "            for j in range(1, nx-1):\n",
    "                p[i, j] = (((p0[i+1, j] + p0[i-1, j]) * dy**2) + ((p0[i, j+1] + p0[i, j-1]) * dx**2)) / (2 * (dx**2 + dy**2)) - b[i, j]\n",
    "\n",
    "        p[:, -1] = p[:, -2] # dp/dx = 0 at x = 2\n",
    "        p[0, :] = p[1, :]   # dp/dy = 0 at y = 0\n",
    "        p[:, 0] = p[:, 1]   # dp/dx = 0 at x = 0\n",
    "        p[-1, :] = 0        # p = 0 at y = 2\n",
    "\n",
    "    # velocity calculation\n",
    "    for i in range(1, ny-1):\n",
    "        for j in range(1, nx-1):\n",
    "            u[i, j] = u0[i, j] - ((dt / rho * dx) * (p[i+1, j] - p[i-1, j])) - (u0[i, j] * (dt / dx) * (u0[i, j] - u0[i-1, j]))\n",
    "            u[i, j] -= v0[i, j] * (dt / dy) * (u0[i, j] - u0[i, j-1]) + ((nu * dt) / dx**2) * (u0[i+1, j] - 2 * u0[i, j] + u0[i-1, j]) + ((nu * dt) / dy**2) * (u0[i, j+1] - 2 * u0[i, j] + u0[i, j-1])\n",
    "\n",
    "            v[i, j] = v0[i, j] - ((dt / rho * dx) * (p[i, j+1] - p[i, j-1])) - (u0[i, j] * (dt / dx) * (v0[i, j] - v0[i-1, j]))\n",
    "            v[i, j] -= v0[i, j] * (dt / dy) * (v0[i, j] - v0[i, j-1]) + ((nu * dt) / dx**2) * (v0[i+1, j] - 2 * v0[i, j] + v0[i-1, j]) + ((nu * dt) / dy**2) * (v0[i, j+1] - 2 * v0[i, j] + v0[i, j-1])\n",
    "\n",
    "    # Set boundary conditions\n",
    "    u[-1, :] = 1 # u = 1 at y = 2\n",
    "\n",
    "    # u = v = 0 at x = 0, 1, y = 0, v = 0 at y = 2\n",
    "    u[0, :] = u[:, 0] = u[:, -1] = v[0, :] = v[:, 0] = v[:, -1] = v[-1, :] = 0 \n",
    "\n"
   ]
  },
  {
   "cell_type": "code",
   "execution_count": 12,
   "metadata": {},
   "outputs": [
    {
     "ename": "NameError",
     "evalue": "name 'numpy' is not defined",
     "output_type": "error",
     "traceback": [
      "\u001b[1;31m---------------------------------------------------------------------------\u001b[0m",
      "\u001b[1;31mNameError\u001b[0m                                 Traceback (most recent call last)",
      "Cell \u001b[1;32mIn[12], line 1\u001b[0m\n\u001b[1;32m----> 1\u001b[0m X, Y \u001b[38;5;241m=\u001b[39m \u001b[43mnumpy\u001b[49m\u001b[38;5;241m.\u001b[39mmeshgrid(x, y)\n\u001b[0;32m      3\u001b[0m fig \u001b[38;5;241m=\u001b[39m pyplot\u001b[38;5;241m.\u001b[39mfigure(figsize\u001b[38;5;241m=\u001b[39m(\u001b[38;5;241m11\u001b[39m,\u001b[38;5;241m7\u001b[39m), dpi\u001b[38;5;241m=\u001b[39m\u001b[38;5;241m100\u001b[39m)\n\u001b[0;32m      4\u001b[0m \u001b[38;5;66;03m# plotting the pressure field as a contour\u001b[39;00m\n",
      "\u001b[1;31mNameError\u001b[0m: name 'numpy' is not defined"
     ]
    }
   ],
   "source": [
    "X, Y = numpy.meshgrid(x, y)\n",
    "\n",
    "fig = pyplot.figure(figsize=(11,7), dpi=100)\n",
    "# plotting the pressure field as a contour\n",
    "pyplot.contourf(X, Y, p, alpha=0.5, cmap=cm.viridis)  \n",
    "pyplot.colorbar()\n",
    "# plotting the pressure field outlines\n",
    "pyplot.contour(X, Y, p, cmap=cm.viridis)  \n",
    "# plotting velocity field\n",
    "pyplot.quiver(X[::2, ::2], Y[::2, ::2], u[::2, ::2], v[::2, ::2]) \n",
    "pyplot.xlabel('X')\n",
    "pyplot.ylabel('Y');"
   ]
  }
 ],
 "metadata": {
  "kernelspec": {
   "display_name": "Python 3",
   "language": "python",
   "name": "python3"
  },
  "language_info": {
   "codemirror_mode": {
    "name": "ipython",
    "version": 3
   },
   "file_extension": ".py",
   "mimetype": "text/x-python",
   "name": "python",
   "nbconvert_exporter": "python",
   "pygments_lexer": "ipython3",
   "version": "3.13.0"
  }
 },
 "nbformat": 4,
 "nbformat_minor": 2
}
